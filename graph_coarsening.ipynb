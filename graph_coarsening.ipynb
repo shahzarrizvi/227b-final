{
 "cells": [
  {
   "cell_type": "code",
   "execution_count": 1,
   "id": "fb4ba8ec-be80-40cb-ac04-6ff4ae62defd",
   "metadata": {
    "tags": []
   },
   "outputs": [],
   "source": [
    "# Standard imports\n",
    "import networkx as nx\n",
    "import numpy as np\n",
    "import matplotlib.pyplot as plt\n",
    "plt.rcParams.update({\"text.usetex\": True})\n",
    "plt.rc('xtick',labelsize=8)\n",
    "plt.rc('ytick',labelsize=8)\n",
    "from tqdm import tqdm"
   ]
  },
  {
   "cell_type": "markdown",
   "id": "26a5844d-e700-4570-8bad-f0739df4253e",
   "metadata": {
    "user_expressions": []
   },
   "source": [
    "The code in this notebook is adapted from the paper \"A Unified Framework for Optimization-Based\n",
    "Graph Coarsening\\\" by Kumar et. al (2023)."
   ]
  },
  {
   "cell_type": "markdown",
   "id": "c5b0febe-dc3a-4dac-99b7-f0faf7b18c9a",
   "metadata": {
    "tags": [],
    "user_expressions": []
   },
   "source": [
    "# Graph Coarsening Algorithm"
   ]
  },
  {
   "cell_type": "code",
   "execution_count": 2,
   "id": "fda19616-1477-4934-a659-ef6e4c8b4c40",
   "metadata": {
    "tags": []
   },
   "outputs": [],
   "source": [
    "class FGC:\n",
    "    def __init__(self, L, X, n, gamma, lambd, alpha, seed = 666):\n",
    "        # Save parameter fields.\n",
    "        self.L = L\n",
    "        self.X = X\n",
    "        self.N = X.shape[0]\n",
    "        self.n = n\n",
    "        self.d = X.shape[1]\n",
    "        \n",
    "        # Initialize optimization variables as random matrices.\n",
    "        np.random.seed(seed)\n",
    "        self.X_tilde = np.random.normal(0, 1, (self.n, self.d))\n",
    "        \n",
    "        self.clip = 1e-10\n",
    "        self.C = np.random.normal(0, 1, (self.N, self.n))\n",
    "        self.C[self.C < self.clip] = self.clip\n",
    "\n",
    "        # Save regularization variables.\n",
    "        self.alpha = alpha\n",
    "        self.lambd = lambd\n",
    "        self.gamma = gamma\n",
    "        \n",
    "        # Optimization parameters.\n",
    "        self.num_iter = 0\n",
    "        self.lr = 1e-5\n",
    "        self.num_c_iter = 100\n",
    "\n",
    "    def objective(self):\n",
    "        f = 0\n",
    "        \n",
    "        # Bregman divergence.\n",
    "        J = np.outer(np.ones(self.n), np.ones(self.n)) / self.n\n",
    "        f += -self.gamma * np.linalg.slogdet(self.C.T @ self.L @ self.C + J)[1]\n",
    "        \n",
    "        # Dirichlet energy.\n",
    "        L_tilde = self.C.T @ self.L @ self.C\n",
    "        f += np.trace(self.X_tilde.T @ L_tilde @ self.X_tilde)\n",
    "\n",
    "        # Regularization for C.\n",
    "        f += self.lambd * np.linalg.norm(self.C @ np.ones((self.n, 1)))**2 / 2\n",
    "        \n",
    "        # Regularization for X_tilde.\n",
    "        f += self.alpha * np.linalg.norm(self.X - self.C @ self.X_tilde)**2 / 2\n",
    "        \n",
    "        return f\n",
    "\n",
    "    def update_X_tilde(self):\n",
    "        L_tilde = self.C.T @ self.L @ self.C\n",
    "        A = 2 * L_tilde / self.alpha + self.C.T @ self.C\n",
    "        self.X_tilde = np.linalg.pinv(A) @ self.C.T @ X\n",
    "\n",
    "        for i in range(len(self.X_tilde)):\n",
    "            self.X_tilde[i] = self.X_tilde[i] / np.linalg.norm(self.X_tilde[i])\n",
    "        \n",
    "        return None\n",
    "\n",
    "    def gradient_C(self):\n",
    "        grad = np.zeros(self.C.shape)\n",
    "        \n",
    "        J = np.outer(np.ones(self.n), np.ones(self.n)) / self.n\n",
    "        v = np.linalg.pinv(self.C.T @ self.L @ self.C + J)\n",
    "        grad += -2*self.gamma * self.L @ self.C @ v\n",
    "        \n",
    "        grad += self.alpha * (self.C @ self.X_tilde - self.X) @ self.X_tilde.T\n",
    "        grad += 2*self.L @ self.C @ self.X_tilde @ self.X_tilde.T\n",
    "        grad += self.lambd * np.abs(self.C) @ (np.ones((self.n, self.n)))\n",
    "\n",
    "        return grad\n",
    "\n",
    "    def update_C(self):\n",
    "        self.C = self.C - self.lr * self.gradient_C()\n",
    "        self.C[self.C < self.clip] = self.clip\n",
    "\n",
    "        for i in range(len(self.C)):\n",
    "            self.C[i] = self.C[i] / np.linalg.norm(self.C[i],1)\n",
    "        \n",
    "        return None\n",
    "\n",
    "    def fit(self, num_iters):\n",
    "        loss = np.zeros(num_iters)\n",
    "        for i in tqdm(range(num_iters)):\n",
    "            for _ in range(self.num_c_iter):\n",
    "                self.update_C()\n",
    "            self.update_X_tilde()\n",
    "            loss[i] = self.objective()\n",
    "            self.num_iter += 1\n",
    "        return (self.C, self.X_tilde, loss)"
   ]
  },
  {
   "cell_type": "code",
   "execution_count": 3,
   "id": "7b51e747-d4d1-4663-bd11-28c388a3610e",
   "metadata": {
    "tags": []
   },
   "outputs": [],
   "source": [
    "class GC:\n",
    "    def __init__(self, L, n, gamma, lambd, alpha, seed = 666, quiet = False):\n",
    "        # Save parameter fields.\n",
    "        self.L = L\n",
    "        self.N = L.shape[0]\n",
    "        self.n = n\n",
    "        \n",
    "        # Initialize optimization variables as random matrices.\n",
    "        self.clip = 1e-10\n",
    "        self.C = np.random.normal(0, 1, (self.N, self.n))\n",
    "        self.C[self.C < self.clip] = self.clip\n",
    "\n",
    "        # Save regularization variables.\n",
    "        self.alpha = alpha\n",
    "        self.lambd = lambd\n",
    "        self.gamma = gamma\n",
    "        \n",
    "        # Optimization parameters.\n",
    "        self.num_iter = 0\n",
    "        self.lr = 1e-5\n",
    "        self.num_c_iter = 100\n",
    "        \n",
    "        # Turn off tqdm output.\n",
    "        self.quiet = quiet\n",
    "\n",
    "    def objective(self):\n",
    "        f = 0\n",
    "        \n",
    "        # Bregman divergence.\n",
    "        J = np.outer(np.ones(self.n), np.ones(self.n)) / self.n\n",
    "        f += -self.gamma * np.linalg.slogdet(self.C.T @ self.L @ self.C + J)[1]\n",
    "\n",
    "        # Regularization for C.\n",
    "        f += self.lambd * np.linalg.norm(self.C @ np.ones((self.n, 1)))**2 / 2\n",
    "        \n",
    "        return f\n",
    "\n",
    "    def gradient_C(self):\n",
    "        grad = np.zeros(self.C.shape)\n",
    "        \n",
    "        J = np.outer(np.ones(self.n), np.ones(self.n)) / self.n\n",
    "        v = np.linalg.pinv(self.C.T @ self.L @ self.C + J)\n",
    "        grad += -2*self.gamma * self.L @ self.C @ v\n",
    "        grad += self.lambd * np.abs(self.C) @ (np.ones((self.n, self.n)))\n",
    "\n",
    "        return grad\n",
    "\n",
    "    def update_C(self):\n",
    "        self.C = self.C - self.lr * self.gradient_C()\n",
    "        self.C[self.C < self.clip] = self.clip\n",
    "\n",
    "        for i in range(len(self.C)):\n",
    "            self.C[i] = self.C[i] / np.linalg.norm(self.C[i],1)\n",
    "        \n",
    "        return None\n",
    "\n",
    "    def fit(self, num_iters):\n",
    "        loss = np.zeros(num_iters)\n",
    "        for i in tqdm(range(num_iters), disable = self.quiet):\n",
    "            for _ in range(self.num_c_iter):\n",
    "                self.update_C()\n",
    "            loss[i] = self.objective()\n",
    "            self.num_iter += 1\n",
    "        return (self.C, loss)"
   ]
  },
  {
   "cell_type": "markdown",
   "id": "af4e57a4-3f7a-4d74-8239-538c4a8ce73d",
   "metadata": {
    "tags": [],
    "user_expressions": []
   },
   "source": [
    "# Generate Random Data"
   ]
  },
  {
   "cell_type": "code",
   "execution_count": 4,
   "id": "5e19162a-022e-438b-ac03-fad58a8ee0d1",
   "metadata": {
    "tags": []
   },
   "outputs": [],
   "source": [
    "def make_LX(G, d, seed = None):\n",
    "    # Create edge weights\n",
    "    np.random.seed(seed)\n",
    "    N = len(G.nodes)\n",
    "    W = np.zeros((N, N))\n",
    "    for (x, y) in G.edges:\n",
    "        W[x][y] = np.random.randint(1,10)\n",
    "    W = W + W.T\n",
    "\n",
    "    # Compute Laplacian\n",
    "    D = np.diag(W @ np.ones((W.shape[0])))\n",
    "    L = D - W\n",
    "\n",
    "    # Create features for the synthetic graph\n",
    "    X = np.random.multivariate_normal(np.zeros(N), np.linalg.pinv(L), d).T\n",
    "    \n",
    "    return L, X\n",
    "\n",
    "def make_erdos_renyi_graph(N, p, d, seed = None):\n",
    "    G = nx.erdos_renyi_graph(N, p, directed = False)\n",
    "    return make_LX(G, d, seed)\n",
    "\n",
    "def make_barabasi_albert_graph(N, m, d, seed = None):\n",
    "    G = nx.barabasi_albert_graph(n = N, m = m, seed = seed)\n",
    "    return make_LX(G, d, seed)\n",
    "\n",
    "def make_watts_strogatz_graph(N, k, p, d, seed = None):\n",
    "    G = nx.watts_strogatz_graph(N, k, p, seed = seed)\n",
    "    return make_LX(G, d, seed)\n",
    "\n",
    "def make_random_geometric_graph(N, r, d, seed = None):\n",
    "    # Make graph\n",
    "    G = nx.random_geometric_graph(N, r, seed = seed)\n",
    "    return make_LX(G, d, seed)"
   ]
  },
  {
   "cell_type": "code",
   "execution_count": 5,
   "id": "9166632e-8129-472f-9fb5-7410710b8423",
   "metadata": {
    "tags": []
   },
   "outputs": [],
   "source": [
    "def reconstruction_error(L, L_hat):\n",
    "    return np.linalg.norm(L - L_hat)"
   ]
  },
  {
   "cell_type": "code",
   "execution_count": 6,
   "id": "26142034-90c0-448a-9657-6dbde23fe811",
   "metadata": {
    "tags": []
   },
   "outputs": [],
   "source": [
    "L, X = make_erdos_renyi_graph(100, 0.1, 500)\n",
    "#L, X = make_barabasi_albert_graph(N, 20, 500)\n",
    "#L, X = make_watts_strogatz_graph(N, 20, 0.1, 500)\n",
    "#L, X = make_barabasi_albert_graph(N, 20, 500)\n",
    "#L, X = make_random_geometric_graph(100, 0.1, 500)"
   ]
  },
  {
   "cell_type": "code",
   "execution_count": 7,
   "id": "70cea986-c429-49d7-8724-ab6ef1c7aba1",
   "metadata": {
    "tags": []
   },
   "outputs": [
    {
     "name": "stderr",
     "output_type": "stream",
     "text": [
      "100%|██████████| 100/100 [00:12<00:00,  7.74it/s]\n"
     ]
    }
   ],
   "source": [
    "n = 10\n",
    "num_iter = 100\n",
    "\n",
    "fgc = FGC(L, X, n, 500, 500, X.shape[1]/2) \n",
    "C, X_t, loss = fgc.fit(num_iter)"
   ]
  },
  {
   "cell_type": "code",
   "execution_count": 8,
   "id": "e188f3a0-c41d-415f-be40-9b776a39dd9c",
   "metadata": {
    "tags": []
   },
   "outputs": [
    {
     "data": {
      "text/plain": [
       "[<matplotlib.lines.Line2D at 0x7f250188bf70>]"
      ]
     },
     "execution_count": 8,
     "metadata": {},
     "output_type": "execute_result"
    },
    {
     "data": {
      "image/png": "[encoded data removed]",
      "text/plain": [
       "<Figure size 640x480 with 1 Axes>"
      ]
     },
     "metadata": {},
     "output_type": "display_data"
    }
   ],
   "source": [
    "plt.plot(loss)"
   ]
  },
  {
   "cell_type": "code",
   "execution_count": 9,
   "id": "b0088bdb-2bb8-417d-9d53-cdefebe3dbd7",
   "metadata": {
    "tags": []
   },
   "outputs": [
    {
     "data": {
      "text/plain": [
       "521.1367751750371"
      ]
     },
     "execution_count": 9,
     "metadata": {},
     "output_type": "execute_result"
    }
   ],
   "source": [
    "# Reconstruction error\n",
    "P = np.linalg.pinv(C)\n",
    "CP = C @ P\n",
    "np.linalg.norm(L - CP.T @ L @ CP)"
   ]
  },
  {
   "cell_type": "code",
   "execution_count": 10,
   "id": "330b8e3a-20c7-4096-9b52-2266d7e6712e",
   "metadata": {
    "tags": []
   },
   "outputs": [
    {
     "name": "stderr",
     "output_type": "stream",
     "text": [
      "100%|██████████| 100/100 [00:08<00:00, 11.91it/s]\n"
     ]
    }
   ],
   "source": [
    "n = 10\n",
    "num_iter = 100\n",
    "\n",
    "gc = GC(L, n, 500, 500, X.shape[1]/2) \n",
    "C, loss = gc.fit(num_iter)"
   ]
  },
  {
   "cell_type": "code",
   "execution_count": 11,
   "id": "8f789a95-6f7f-4162-a3eb-5397437133b4",
   "metadata": {
    "tags": []
   },
   "outputs": [
    {
     "data": {
      "text/plain": [
       "[<matplotlib.lines.Line2D at 0x7f2500e6de40>]"
      ]
     },
     "execution_count": 11,
     "metadata": {},
     "output_type": "execute_result"
    },
    {
     "data": {
      "image/png": "[encoded data removed]",
      "text/plain": [
       "<Figure size 640x480 with 1 Axes>"
      ]
     },
     "metadata": {},
     "output_type": "display_data"
    }
   ],
   "source": [
    "plt.plot(loss)"
   ]
  },
  {
   "cell_type": "code",
   "execution_count": 12,
   "id": "5bf0a405-8832-4c3e-b30b-5d91f4c93503",
   "metadata": {
    "tags": []
   },
   "outputs": [
    {
     "data": {
      "text/plain": [
       "522.1161674466674"
      ]
     },
     "execution_count": 12,
     "metadata": {},
     "output_type": "execute_result"
    }
   ],
   "source": [
    "# Reconstruction error\n",
    "P = np.linalg.pinv(C)\n",
    "CP = C @ P\n",
    "np.linalg.norm(L - CP.T @ L @ CP)"
   ]
  },
  {
   "cell_type": "code",
   "execution_count": 13,
   "id": "8629d068-98d5-4981-b923-b3ed9ed6354a",
   "metadata": {
    "tags": []
   },
   "outputs": [
    {
     "name": "stderr",
     "output_type": "stream",
     "text": [
      "100%|██████████| 100/100 [00:13<00:00,  7.65it/s]\n"
     ]
    },
    {
     "name": "stdout",
     "output_type": "stream",
     "text": [
      "502.91\t"
     ]
    },
    {
     "name": "stderr",
     "output_type": "stream",
     "text": [
      "100%|██████████| 100/100 [00:08<00:00, 11.96it/s]\n"
     ]
    },
    {
     "name": "stdout",
     "output_type": "stream",
     "text": [
      "506.86\n",
      "\n"
     ]
    },
    {
     "name": "stderr",
     "output_type": "stream",
     "text": [
      "100%|██████████| 100/100 [00:12<00:00,  7.76it/s]\n"
     ]
    },
    {
     "name": "stdout",
     "output_type": "stream",
     "text": [
      "506.79\t"
     ]
    },
    {
     "name": "stderr",
     "output_type": "stream",
     "text": [
      "100%|██████████| 100/100 [00:08<00:00, 12.03it/s]\n"
     ]
    },
    {
     "name": "stdout",
     "output_type": "stream",
     "text": [
      "508.43\n",
      "\n"
     ]
    },
    {
     "name": "stderr",
     "output_type": "stream",
     "text": [
      "100%|██████████| 100/100 [00:13<00:00,  7.62it/s]\n"
     ]
    },
    {
     "name": "stdout",
     "output_type": "stream",
     "text": [
      "526.06\t"
     ]
    },
    {
     "name": "stderr",
     "output_type": "stream",
     "text": [
      "100%|██████████| 100/100 [00:08<00:00, 12.05it/s]\n"
     ]
    },
    {
     "name": "stdout",
     "output_type": "stream",
     "text": [
      "526.71\n",
      "\n"
     ]
    },
    {
     "name": "stderr",
     "output_type": "stream",
     "text": [
      "100%|██████████| 100/100 [00:12<00:00,  7.69it/s]\n"
     ]
    },
    {
     "name": "stdout",
     "output_type": "stream",
     "text": [
      "523.08\t"
     ]
    },
    {
     "name": "stderr",
     "output_type": "stream",
     "text": [
      "100%|██████████| 100/100 [00:08<00:00, 11.98it/s]\n"
     ]
    },
    {
     "name": "stdout",
     "output_type": "stream",
     "text": [
      "525.97\n",
      "\n"
     ]
    },
    {
     "name": "stderr",
     "output_type": "stream",
     "text": [
      "100%|██████████| 100/100 [00:12<00:00,  7.72it/s]\n"
     ]
    },
    {
     "name": "stdout",
     "output_type": "stream",
     "text": [
      "517.2\t"
     ]
    },
    {
     "name": "stderr",
     "output_type": "stream",
     "text": [
      "100%|██████████| 100/100 [00:08<00:00, 11.87it/s]\n"
     ]
    },
    {
     "name": "stdout",
     "output_type": "stream",
     "text": [
      "519.26\n",
      "\n"
     ]
    },
    {
     "name": "stderr",
     "output_type": "stream",
     "text": [
      "100%|██████████| 100/100 [00:13<00:00,  7.67it/s]\n"
     ]
    },
    {
     "name": "stdout",
     "output_type": "stream",
     "text": [
      "509.09\t"
     ]
    },
    {
     "name": "stderr",
     "output_type": "stream",
     "text": [
      "100%|██████████| 100/100 [00:08<00:00, 11.90it/s]\n"
     ]
    },
    {
     "name": "stdout",
     "output_type": "stream",
     "text": [
      "515.32\n",
      "\n"
     ]
    },
    {
     "name": "stderr",
     "output_type": "stream",
     "text": [
      "100%|██████████| 100/100 [00:13<00:00,  7.67it/s]\n"
     ]
    },
    {
     "name": "stdout",
     "output_type": "stream",
     "text": [
      "534.75\t"
     ]
    },
    {
     "name": "stderr",
     "output_type": "stream",
     "text": [
      "100%|██████████| 100/100 [00:08<00:00, 12.12it/s]\n"
     ]
    },
    {
     "name": "stdout",
     "output_type": "stream",
     "text": [
      "533.23\n",
      "\n"
     ]
    },
    {
     "name": "stderr",
     "output_type": "stream",
     "text": [
      "100%|██████████| 100/100 [00:13<00:00,  7.69it/s]\n"
     ]
    },
    {
     "name": "stdout",
     "output_type": "stream",
     "text": [
      "551.39\t"
     ]
    },
    {
     "name": "stderr",
     "output_type": "stream",
     "text": [
      "100%|██████████| 100/100 [00:08<00:00, 11.89it/s]\n"
     ]
    },
    {
     "name": "stdout",
     "output_type": "stream",
     "text": [
      "553.69\n",
      "\n"
     ]
    },
    {
     "name": "stderr",
     "output_type": "stream",
     "text": [
      "100%|██████████| 100/100 [00:12<00:00,  7.79it/s]\n"
     ]
    },
    {
     "name": "stdout",
     "output_type": "stream",
     "text": [
      "528.96\t"
     ]
    },
    {
     "name": "stderr",
     "output_type": "stream",
     "text": [
      "100%|██████████| 100/100 [00:08<00:00, 12.12it/s]\n"
     ]
    },
    {
     "name": "stdout",
     "output_type": "stream",
     "text": [
      "531.7\n",
      "\n"
     ]
    },
    {
     "name": "stderr",
     "output_type": "stream",
     "text": [
      "100%|██████████| 100/100 [00:12<00:00,  7.70it/s]\n"
     ]
    },
    {
     "name": "stdout",
     "output_type": "stream",
     "text": [
      "513.5\t"
     ]
    },
    {
     "name": "stderr",
     "output_type": "stream",
     "text": [
      "100%|██████████| 100/100 [00:08<00:00, 11.79it/s]"
     ]
    },
    {
     "name": "stdout",
     "output_type": "stream",
     "text": [
      "516.54\n",
      "\n"
     ]
    },
    {
     "name": "stderr",
     "output_type": "stream",
     "text": [
      "\n"
     ]
    }
   ],
   "source": [
    "N = 100\n",
    "p = 0.1\n",
    "d = 500\n",
    "\n",
    "n = 10\n",
    "num_iter = 100\n",
    "\n",
    "fgc_err = np.zeros(10)\n",
    "gc_err = np.zeros(10)\n",
    "for i in range(10):\n",
    "    L, X = make_erdos_renyi_graph(N, p, d)\n",
    "    fgc = FGC(L, X, n, 500, 500, d/2) \n",
    "    C, X_t, loss = fgc.fit(num_iter)\n",
    "    P = np.linalg.pinv(C)\n",
    "    CP = C @ P\n",
    "    fgc_err[i] = reconstruction_error(L, CP.T @ L @ CP)\n",
    "    print(round(fgc_err[i], 2), end = '\\t')\n",
    "    \n",
    "    gc = GC(L, n, 500, 500, d/2) \n",
    "    C, loss = gc.fit(num_iter)\n",
    "    P = np.linalg.pinv(C)\n",
    "    CP = C @ P\n",
    "    gc_err[i] = reconstruction_error(L, CP.T @ L @ CP)\n",
    "    print(round(gc_err[i], 2))\n",
    "    print()"
   ]
  },
  {
   "cell_type": "markdown",
   "id": "162f1c46-ff3a-4786-b6a7-e81432aa64ec",
   "metadata": {
    "user_expressions": []
   },
   "source": [
    "# Clustering Coefficients"
   ]
  },
  {
   "cell_type": "code",
   "execution_count": 14,
   "id": "ca00c158-f448-49e1-b9bf-8bcfe470d960",
   "metadata": {
    "tags": []
   },
   "outputs": [],
   "source": [
    "N = 100\n",
    "p = 0.1\n",
    "\n",
    "C_ER = np.zeros(5000)\n",
    "for i in range(5000):\n",
    "    G = nx.erdos_renyi_graph(N, p, directed = False)\n",
    "    C_ER[i] = nx.average_clustering(G)"
   ]
  },
  {
   "cell_type": "code",
   "execution_count": 15,
   "id": "810490f5-75bb-41e0-8b84-eddb78082b6c",
   "metadata": {
    "scrolled": true,
    "tags": []
   },
   "outputs": [],
   "source": [
    "N = 100\n",
    "m = 20\n",
    "\n",
    "C_BA = np.zeros(5000)\n",
    "for i in range(5000):\n",
    "    G = nx.barabasi_albert_graph(n = N, m = m)\n",
    "    C_BA[i] = nx.average_clustering(G)"
   ]
  },
  {
   "cell_type": "code",
   "execution_count": 16,
   "id": "92993138-350e-4563-b366-8eb9df115f65",
   "metadata": {
    "tags": []
   },
   "outputs": [],
   "source": [
    "N = 100\n",
    "k = 20\n",
    "p = 0.1\n",
    "\n",
    "C_WS = np.zeros(5000)\n",
    "for i in range(5000):\n",
    "    G = nx.watts_strogatz_graph(N, k, p)\n",
    "    C_WS[i] = nx.average_clustering(G)"
   ]
  },
  {
   "cell_type": "code",
   "execution_count": 17,
   "id": "2f19d924-9785-4e7b-96c6-6453dc6275d6",
   "metadata": {
    "tags": []
   },
   "outputs": [],
   "source": [
    "N = 100\n",
    "r = 0.1\n",
    "\n",
    "C_RG = np.zeros(5000)\n",
    "for i in range(5000):\n",
    "    G = nx.random_geometric_graph(N, r)\n",
    "    C_RG[i] = nx.average_clustering(G)"
   ]
  },
  {
   "cell_type": "code",
   "execution_count": 18,
   "id": "343bb429-2cf9-4ea8-8662-40fb35553db6",
   "metadata": {
    "tags": []
   },
   "outputs": [
    {
     "data": {
      "text/plain": [
       "(0.10031190066156255,\n",
       " 0.42637837955990837,\n",
       " 0.5444442049660247,\n",
       " 0.47006800421800415)"
      ]
     },
     "execution_count": 18,
     "metadata": {},
     "output_type": "execute_result"
    }
   ],
   "source": [
    "np.mean(C_ER), np.mean(C_BA), np.mean(C_WS), np.mean(C_RG)"
   ]
  },
  {
   "cell_type": "markdown",
   "id": "ba9a0711-0180-4dde-87f4-495fd58ce7a5",
   "metadata": {
    "user_expressions": []
   },
   "source": [
    "# Experiment Results"
   ]
  },
  {
   "cell_type": "code",
   "execution_count": 19,
   "id": "7152d81d-f65e-4cd6-9cb1-553e5acaf2b8",
   "metadata": {
    "tags": []
   },
   "outputs": [],
   "source": [
    "er_diffs = np.load('results/er_diff.npy')\n",
    "ba_diffs = np.load('results/ba_diff.npy')\n",
    "ws_diffs = np.load('results/ws_diff.npy')\n",
    "rg_diffs = np.load('results/rg_diff.npy')"
   ]
  },
  {
   "cell_type": "code",
   "execution_count": 20,
   "id": "9789c3ba-8b60-4540-a6d6-a4ebfcb23e59",
   "metadata": {
    "tags": []
   },
   "outputs": [
    {
     "data": {
      "image/png": "[encoded data removed]",
      "text/plain": [
       "<Figure size 650x200 with 4 Axes>"
      ]
     },
     "metadata": {},
     "output_type": "display_data"
    }
   ],
   "source": [
    "fig, axs = plt.subplots(1, 4, figsize = (6.5, 2), sharey = True)\n",
    "\n",
    "axs[0].hist(er_diffs, color = 'crimson', bins = 11)\n",
    "axs[0].set_ylabel(r'${\\rm MRE}(\\mathbf{L}, \\hat{\\mathbf{L}}_{\\rm FGC}) - {\\rm MRE}(\\mathbf{L}, \\hat{\\mathbf{L}}_{\\rm GC})$', size = 8)\n",
    "axs[0].set_title(r'Erdős–Rényi(100, 0.1)', size = 8)\n",
    "\n",
    "axs[1].hist(ba_diffs, color = 'crimson', bins = 11)\n",
    "axs[1].set_title(r'Barabási-Albert(100, 20)', size = 8)\n",
    "\n",
    "axs[2].hist(ws_diffs, color = 'crimson', bins = 11)\n",
    "axs[2].set_title(r'Watts-Strogatz(100, 20, 0.1)', size = 8)\n",
    "\n",
    "axs[3].hist(rg_diffs, color = 'crimson', bins = 11)\n",
    "axs[3].set_title(r'Random-Geometric(100, 0.1)', size = 8)\n",
    "\n",
    "fig.tight_layout()\n",
    "plt.savefig('hists.pdf', bbox_inches = 'tight')"
   ]
  }
 ],
 "metadata": {
  "kernelspec": {
   "display_name": "gracoa",
   "language": "python",
   "name": "gracoa"
  },
  "language_info": {
   "codemirror_mode": {
    "name": "ipython",
    "version": 3
   },
   "file_extension": ".py",
   "mimetype": "text/x-python",
   "name": "python",
   "nbconvert_exporter": "python",
   "pygments_lexer": "ipython3",
   "version": "3.10.13"
  }
 },
 "nbformat": 4,
 "nbformat_minor": 5
}
